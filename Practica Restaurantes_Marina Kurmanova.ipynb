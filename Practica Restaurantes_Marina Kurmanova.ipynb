{
 "cells": [
  {
   "cell_type": "markdown",
   "metadata": {},
   "source": [
    "# Práctica SDPD T2. Restaurantes Europeos de Tripadvisor\n",
    "\n",
    "Autor: Marina Kurmanova"
   ]
  },
  {
   "cell_type": "markdown",
   "metadata": {},
   "source": [
    "## Introducción"
   ]
  },
  {
   "cell_type": "markdown",
   "metadata": {},
   "source": [
    "El trabajo de esta práctica consiste en procesar el dataset de Kaggle sobre información de restaurantes procedente de Tripadvisor en 31 ciudades europeas.\n",
    "\n",
    "El dataset contiene 125527 entradas sobre restaurantes y en esta primera aproximación asumiremos que los datos de cada restaurante son únicos. En cuanto a datos faltantes, se conoce que estos aparecen en el dataset como NaN, sin embargo, no vamos a emplear ninguna técnica de imputación, pero en cambio tendremos en cuenta su existencia para evitar errores.\n",
    "\n",
    "El objetivo de la práctica es realizar un estudio de los datos de restaurantes utilizando la API de programación de datos estructurados de Apache Spark haciendo consultas sobre datos bien mediante sentencias SQL o mediante operaciones con objetos DataFrame. Por tanto, en primer lugar nuestro objetivo es convertir los datos de entrada en formato csv a un dataframe."
   ]
  },
  {
   "cell_type": "markdown",
   "metadata": {},
   "source": [
    "## Preparación de datos"
   ]
  },
  {
   "cell_type": "markdown",
   "metadata": {},
   "source": []
  },
  {
   "cell_type": "markdown",
   "metadata": {},
   "source": [
    "Comenzamos creando una sesión de Spark"
   ]
  },
  {
   "cell_type": "code",
   "execution_count": 142,
   "metadata": {},
   "outputs": [],
   "source": [
    "import pyspark\n",
    "from pyspark.sql import SparkSession\n",
    "spark = (SparkSession.builder\n",
    "    .master(\"local[*]\")\n",
    "    .config(\"spark.driver.cores\", 1)\n",
    "    .appName(\"Practica Restaurantes\")\n",
    "    .getOrCreate() )\n",
    "sc = spark.sparkContext"
   ]
  },
  {
   "cell_type": "markdown",
   "metadata": {},
   "source": [
    "Importamos los tipos y las funciones del paquete SQL de Pyspark para definir el schema de los datos y para realizar un tratamiento de los datos si fuese necesario. A continuación crearemos el esquema que permitirá importar los datos evitando errores y a la vez optimizando el espacio que ocupen los datos en memoria. A pesar de que Spark es un entorno de programación distribuida y orientado a Big Data, cuando los datos son grandes el impacto de sobredimensionamiento de cada elemento que puede producir un tipado incorrecto crece de forma considerable con cada dato que se cree.\n",
    "\n",
    "El formato de los datos de entrada es csv, con lo cual todas variables se encuentran en la cabecera del fichero de datos. Realizando una inspección visual de los datos y tras varias pruebas, se obtiene el siguiente esquema:"
   ]
  },
  {
   "cell_type": "code",
   "execution_count": 143,
   "metadata": {},
   "outputs": [],
   "source": [
    "from pyspark.sql.types import *\n",
    "from pyspark.sql import Row\n",
    "from pyspark.sql import functions as func\n",
    "from pyspark.sql.functions import rank, dense_rank, split, regexp_replace, col, explode, count, desc, asc\n",
    "\n",
    "# Name,City,Cuisine Style,Ranking,Rating,Price Range,Number of Reviews,Reviews,URL_TA,ID_TA\n",
    "restSchema = StructType([\n",
    "    StructField(\"id\", IntegerType(), True), #0\n",
    "    StructField(\"Name\", StringType(), True), #1\n",
    "    StructField(\"City\", StringType(), True), #2\n",
    "    StructField(\"CuisineStyle\", StringType(), True), #3\n",
    "    StructField(\"Ranking\", DecimalType(), True), #4\n",
    "    StructField(\"Rating\", DecimalType(), True), #5\n",
    "    StructField(\"PriceRange\", StringType(), True), #6\n",
    "    StructField(\"NumReviews\", FloatType(), True), #7\n",
    "    StructField(\"Reviews\", StringType(), True), #8\n",
    "    StructField(\"URL_TA\", StringType(), True), #9\n",
    "    StructField(\"ID_TA\", StringType(), False), #10\n",
    "    ])\n",
    "\n"
   ]
  },
  {
   "cell_type": "markdown",
   "metadata": {},
   "source": []
  },
  {
   "cell_type": "markdown",
   "metadata": {},
   "source": [
    "Inicialmente se ha intentado realizar el import de la misma forma que se hizo en clase con el ejemplo de la comunidad italiana de StackExchange, es decir, importando los datos como líneas de texto a las que se les aplicaría una función lambda para preformatear los datos de manera que coincidan con el esquema que se haya definido y una vez preformateados obtener un RDD que se convertiría en DataFrame. \n",
    "\n",
    "Sin embargo, en algún punto de este proceso ha habido fallos por lo que se ha optado por este otro método que consiste en usar la clase *sqlContext* y la librería databricks Spark csv https://github.com/databricks/spark-csv para parseo y consultas de datos csv en Apache Spark para Spark SQL y DataFrames. Un DataFrame es equivalente a tabla relacional en Spark SQL y el método *read* permite crear uno automáticamente. En nuestro caso se le han pasado tales opciones como la indicación de que nuestros datos contienen cabeceras, que la librería no infiera un esquema sino use el que le pasamos como parámetro, que nuestros datos contienen doble comilla (en el case de las variables *Cuisine Style* y *Reviews*) y que el delimitador de csv es una coma.\n"
   ]
  },
  {
   "cell_type": "code",
   "execution_count": 144,
   "metadata": {},
   "outputs": [],
   "source": [
    "sqlContext = SparkSession(sc)\n",
    "\n",
    "df = (sqlContext.read.format(\"com.databricks.spark.csv\")\n",
    "        .option(\"header\", \"true\")\n",
    "        .option(\"inferSchema\", \"false\")\n",
    "        .option(\"delimiter\", \",\")\n",
    "        .option(\"quote\", \"\\\"\")\n",
    "        .schema(restSchema)\n",
    "        .load(\"./krakow-ta-restaurans-data-raw/TA_restaurants_curated.csv\"))\n"
   ]
  },
  {
   "cell_type": "markdown",
   "metadata": {},
   "source": [
    "Una vez obtenido el DataFrame hacemos una inspección de los tipos, del número de registros y del esquema de los datos. Podemos observar que el número de entradas es el que tiene nuestro dataset original y que los tipos son los que hemos predefinido con el esquema. Sin embargo, las variables *Cuisine Style* y *Reviews* presentan una cadena de caracteres y no un array, cosa que puede impedir hacer consultas sobre los datos que traen consigo esas variables."
   ]
  },
  {
   "cell_type": "code",
   "execution_count": 145,
   "metadata": {
    "scrolled": true
   },
   "outputs": [
    {
     "name": "stdout",
     "output_type": "stream",
     "text": [
      "125527\n",
      "[('id', 'int'), ('Name', 'string'), ('City', 'string'), ('CuisineStyle', 'string'), ('Ranking', 'decimal(10,0)'), ('Rating', 'decimal(10,0)'), ('PriceRange', 'string'), ('NumReviews', 'float'), ('Reviews', 'string'), ('URL_TA', 'string'), ('ID_TA', 'string')]\n",
      "root\n",
      " |-- id: integer (nullable = true)\n",
      " |-- Name: string (nullable = true)\n",
      " |-- City: string (nullable = true)\n",
      " |-- CuisineStyle: string (nullable = true)\n",
      " |-- Ranking: decimal(10,0) (nullable = true)\n",
      " |-- Rating: decimal(10,0) (nullable = true)\n",
      " |-- PriceRange: string (nullable = true)\n",
      " |-- NumReviews: float (nullable = true)\n",
      " |-- Reviews: string (nullable = true)\n",
      " |-- URL_TA: string (nullable = true)\n",
      " |-- ID_TA: string (nullable = true)\n",
      "\n",
      "None\n"
     ]
    }
   ],
   "source": [
    "print(df.count())\n",
    "print(df.dtypes)\n",
    "print(df.printSchema())"
   ]
  },
  {
   "cell_type": "markdown",
   "metadata": {},
   "source": [
    "Haremos una conversión de los tipos de las variables *Cuisine Style* y *Reviews* y comprobaremos que se ha realizado correctamente. Hacemos también una breve inspección visual de los datos."
   ]
  },
  {
   "cell_type": "code",
   "execution_count": 146,
   "metadata": {},
   "outputs": [
    {
     "name": "stdout",
     "output_type": "stream",
     "text": [
      "125527\n",
      "125527\n",
      "root\n",
      " |-- id: integer (nullable = true)\n",
      " |-- Name: string (nullable = true)\n",
      " |-- City: string (nullable = true)\n",
      " |-- CuisineStyle: array (nullable = true)\n",
      " |    |-- element: string (containsNull = true)\n",
      " |-- Ranking: decimal(10,0) (nullable = true)\n",
      " |-- Rating: decimal(10,0) (nullable = true)\n",
      " |-- PriceRange: string (nullable = true)\n",
      " |-- NumReviews: float (nullable = true)\n",
      " |-- Reviews: array (nullable = true)\n",
      " |    |-- element: string (containsNull = true)\n",
      " |-- URL_TA: string (nullable = true)\n",
      " |-- ID_TA: string (nullable = true)\n",
      "\n",
      "None\n",
      "+---+--------------------+---------+--------------------+-------+------+----------+----------+--------------------+--------------------+---------+\n",
      "| id|                Name|     City|        CuisineStyle|Ranking|Rating|PriceRange|NumReviews|             Reviews|              URL_TA|    ID_TA|\n",
      "+---+--------------------+---------+--------------------+-------+------+----------+----------+--------------------+--------------------+---------+\n",
      "|  0|Martine of Martin...|Amsterdam|[French,  Dutch, ...|      1|     5|  $$ - $$$|     136.0|[[Just like home,...|/Restaurant_Revie...|d11752080|\n",
      "|  1| De Silveren Spiegel|Amsterdam|[Dutch,  European...|      2|     5|      $$$$|     812.0|[[Great food and ...|/Restaurant_Revie...|  d693419|\n",
      "|  2|             La Rive|Amsterdam|[Mediterranean,  ...|      3|     5|      $$$$|     567.0|[[Satisfaction,  ...|/Restaurant_Revie...|  d696959|\n",
      "|  3|            Vinkeles|Amsterdam|[French,  Europea...|      4|     5|      $$$$|     564.0|[[True five star ...|/Restaurant_Revie...| d1239229|\n",
      "|  4|Librije's Zusje A...|Amsterdam|[Dutch,  European...|      5|     5|      $$$$|     316.0|[[Best meal.... E...|/Restaurant_Revie...| d6864170|\n",
      "|  5|Ciel Bleu Restaurant|Amsterdam|[Contemporary,  I...|      6|     5|      $$$$|     745.0|[[A treat!,  Wow ...|/Restaurant_Revie...|  d696902|\n",
      "|  6|              Zaza's|Amsterdam|[French,  Interna...|      7|     5|  $$ - $$$|    1455.0|[[40th Birthday w...|/Restaurant_Revie...| d1014732|\n",
      "|  7|Blue Pepper Resta...|Amsterdam|[Asian,  Indonesi...|      8|     5|      $$$$|     675.0|[[Great Experienc...|/Restaurant_Revie...|  d697058|\n",
      "|  8|Teppanyaki Restau...|Amsterdam|[Japanese,  Asian...|      9|     5|      $$$$|     923.0|[[Great Food & Se...|/Restaurant_Revie...|  d697009|\n",
      "|  9|Rob Wigboldus Vis...|Amsterdam|[Dutch,  Seafood,...|     10|     5|         $|     450.0|[[Excellent Herri...|/Restaurant_Revie...| d1955652|\n",
      "| 10|      The Happy Bull|Amsterdam|[American,  Bar, ...|     11|     5|  $$ - $$$|     295.0|[[Simply AMAZING!...|/Restaurant_Revie...|d10275170|\n",
      "| 11|             Gartine|Amsterdam|[French,  Dutch, ...|     12|     5|  $$ - $$$|     967.0|[[A hidden gem,  ...|/Restaurant_Revie...| d1014753|\n",
      "| 12|     Restaurant Adam|Amsterdam|[French,  Europea...|     13|     5|      $$$$|     368.0|[[Love it!,  As p...|/Restaurant_Revie...| d7695005|\n",
      "| 13|     Biercafe Gollem|Amsterdam|         [Bar,  Pub]|     14|     5|  $$ - $$$|     586.0|[[Awesome little ...|/Restaurant_Revie...| d3893242|\n",
      "| 14|  Restaurant Daalder|Amsterdam|[French,  Dutch, ...|     15|     5|      $$$$|    1246.0|[[Best meal of ou...|/Restaurant_Revie...| d1408533|\n",
      "| 15|Greenwoods Keizer...|Amsterdam|[Dutch,  Cafe,  E...|     16|     5|  $$ - $$$|    1391.0|[[So. Much. Food,...|/Restaurant_Revie...| d3200493|\n",
      "| 16|Omelegg - City Ce...|Amsterdam|[Dutch,  European...|     17|     5|         $|    1633.0|[[Brunch,  Worth ...|/Restaurant_Revie...| d8562698|\n",
      "| 17| Brasserie Ambassade|Amsterdam|[French,  Bar,  I...|     18|     5|      $$$$|     958.0|[[Wonderful Chris...|/Restaurant_Revie...| d8567150|\n",
      "| 18|   Sherpa Restaurant|Amsterdam|[Indian,  Tibetan...|     19|     5|  $$ - $$$|     426.0|[[Very good tibet...|/Restaurant_Revie...| d6022573|\n",
      "| 19|La Maschera Lillo...|Amsterdam|[Italian,  Medite...|     20|     5|  $$ - $$$|     421.0|[[Fabulous Italia...|/Restaurant_Revie...|d10071792|\n",
      "+---+--------------------+---------+--------------------+-------+------+----------+----------+--------------------+--------------------+---------+\n",
      "only showing top 20 rows\n",
      "\n"
     ]
    }
   ],
   "source": [
    "df2 = df.withColumn('CuisineStyle',split(regexp_replace(col('CuisineStyle'), '\\[\\'|\\'\\]|\\'',''),',').cast('array<string>'))\n",
    "df3 = df2.withColumn('Reviews',split(regexp_replace(col('Reviews'), '\\[\\'|\\'\\]|\\'',''),',').cast('array<string>'))\n",
    "print(df3.count())\n",
    "df3.na.drop()\n",
    "print(df3.count())\n",
    "print(df3.printSchema())\n",
    "df3.show()"
   ]
  },
  {
   "cell_type": "markdown",
   "metadata": {},
   "source": [
    "## Consultas\n",
    "\n",
    "Una vez creado el DataFrame puede usarse para hacer consultas sobre él mediante varias funciones DSL (domain-specific-language) definidas en la clase DataFrame o Column."
   ]
  },
  {
   "cell_type": "markdown",
   "metadata": {},
   "source": [
    "#1. Obtener el número total de restaurantes que aparecen en la muestra en cada una de las\n",
    "31 ciudades"
   ]
  },
  {
   "cell_type": "code",
   "execution_count": 147,
   "metadata": {},
   "outputs": [
    {
     "data": {
      "text/plain": [
       "[Row(City='Madrid', count=9543),\n",
       " Row(City='Prague', count=4859),\n",
       " Row(City='Edinburgh', count=1865),\n",
       " Row(City='Lisbon', count=3986),\n",
       " Row(City='Stockholm', count=2705),\n",
       " Row(City='Oslo', count=1213),\n",
       " Row(City='Dublin', count=2082),\n",
       " Row(City='Berlin', count=7078),\n",
       " Row(City='London', count=18212),\n",
       " Row(City='Vienna', count=3724),\n",
       " Row(City='Paris', count=14874),\n",
       " Row(City='Hamburg', count=3131),\n",
       " Row(City='Athens', count=1938),\n",
       " Row(City='Lyon', count=2930),\n",
       " Row(City='Ljubljana', count=501),\n",
       " Row(City='Zurich', count=1667),\n",
       " Row(City='Krakow', count=1354),\n",
       " Row(City='Milan', count=6687),\n",
       " Row(City='Barcelona', count=8425),\n",
       " Row(City='Warsaw', count=2352),\n",
       " Row(City='Amsterdam', count=3434),\n",
       " Row(City='Brussels', count=3204),\n",
       " Row(City='Helsinki', count=1228),\n",
       " Row(City='Copenhagen', count=2109),\n",
       " Row(City='Oporto', count=1580),\n",
       " Row(City='Bratislava', count=1067),\n",
       " Row(City='Rome', count=5949),\n",
       " Row(City='Geneva', count=1572),\n",
       " Row(City='Luxembourg', count=657),\n",
       " Row(City='Budapest', count=2606),\n",
       " Row(City='Munich', count=2995)]"
      ]
     },
     "execution_count": 147,
     "metadata": {},
     "output_type": "execute_result"
    }
   ],
   "source": [
    "df.groupBy(\"City\").count().collect()"
   ]
  },
  {
   "cell_type": "code",
   "execution_count": 148,
   "metadata": {},
   "outputs": [
    {
     "data": {
      "text/plain": [
       "[Row(City='Madrid', count(1)=9543),\n",
       " Row(City='Prague', count(1)=4859),\n",
       " Row(City='Edinburgh', count(1)=1865),\n",
       " Row(City='Lisbon', count(1)=3986),\n",
       " Row(City='Stockholm', count(1)=2705),\n",
       " Row(City='Oslo', count(1)=1213),\n",
       " Row(City='Dublin', count(1)=2082),\n",
       " Row(City='Berlin', count(1)=7078),\n",
       " Row(City='London', count(1)=18212),\n",
       " Row(City='Vienna', count(1)=3724),\n",
       " Row(City='Paris', count(1)=14874),\n",
       " Row(City='Hamburg', count(1)=3131),\n",
       " Row(City='Athens', count(1)=1938),\n",
       " Row(City='Lyon', count(1)=2930),\n",
       " Row(City='Ljubljana', count(1)=501),\n",
       " Row(City='Zurich', count(1)=1667),\n",
       " Row(City='Krakow', count(1)=1354),\n",
       " Row(City='Milan', count(1)=6687),\n",
       " Row(City='Barcelona', count(1)=8425),\n",
       " Row(City='Warsaw', count(1)=2352),\n",
       " Row(City='Amsterdam', count(1)=3434),\n",
       " Row(City='Brussels', count(1)=3204),\n",
       " Row(City='Helsinki', count(1)=1228),\n",
       " Row(City='Copenhagen', count(1)=2109),\n",
       " Row(City='Oporto', count(1)=1580),\n",
       " Row(City='Bratislava', count(1)=1067),\n",
       " Row(City='Rome', count(1)=5949),\n",
       " Row(City='Geneva', count(1)=1572),\n",
       " Row(City='Luxembourg', count(1)=657),\n",
       " Row(City='Budapest', count(1)=2606),\n",
       " Row(City='Munich', count(1)=2995)]"
      ]
     },
     "execution_count": 148,
     "metadata": {},
     "output_type": "execute_result"
    }
   ],
   "source": [
    "df.groupBy(\"City\").agg({\"*\": \"count\"}).collect()"
   ]
  },
  {
   "cell_type": "markdown",
   "metadata": {},
   "source": [
    "#2. Obtener el número total de restaurantes en cada rango de precio en Barcelona."
   ]
  },
  {
   "cell_type": "code",
   "execution_count": 149,
   "metadata": {},
   "outputs": [
    {
     "data": {
      "text/plain": [
       "[Row(PriceRange='$$$$', count=263),\n",
       " Row(PriceRange=None, count=3018),\n",
       " Row(PriceRange='$$ - $$$', count=3680),\n",
       " Row(PriceRange='$', count=1464)]"
      ]
     },
     "execution_count": 149,
     "metadata": {},
     "output_type": "execute_result"
    }
   ],
   "source": [
    "df_2 = df.filter(df.City == \"Barcelona\").groupBy(\"PriceRange\").count().alias('count')\n",
    "df_2.collect()"
   ]
  },
  {
   "cell_type": "markdown",
   "metadata": {},
   "source": [
    "#3. Obtener nombre, ID y URL de los 5 restaurantes que tienen el mayor número de reviews\n",
    "en las ciudades: Amsterdam, Berlín, Lisboa, Viena y Zurich."
   ]
  },
  {
   "cell_type": "code",
   "execution_count": 150,
   "metadata": {},
   "outputs": [
    {
     "name": "stdout",
     "output_type": "stream",
     "text": [
      "+---+---------+----------------------------+-----------------------------------+----+\n",
      "| id|     City|                        Name|                             URL_TA|rank|\n",
      "+---+---------+----------------------------+-----------------------------------+----+\n",
      "|111|   Lisbon|           Cervejaria Ramiro|/Restaurant_Review-g189158-d2703...|   1|\n",
      "|157|   Lisbon|         Solar dos Presuntos|/Restaurant_Review-g189158-d1058...|   2|\n",
      "|122|   Lisbon|             Time Out Market|/Restaurant_Review-g189158-d1076...|   3|\n",
      "| 76|   Lisbon|      Restaurante Sacramento|/Restaurant_Review-g189158-d1124...|   4|\n",
      "|183|   Lisbon|       Hard Rock Cafe Lisboa|/Restaurant_Review-g189158-d1047...|   5|\n",
      "|137|   Berlin|      Hofbrau Munchen Berlin|/Restaurant_Review-g187323-d3208...|   1|\n",
      "|180|   Berlin|Augustiner am Gendarmenmarkt|/Restaurant_Review-g187323-d2005...|   2|\n",
      "|  9|   Berlin|               Burgermeister|/Restaurant_Review-g187323-d9470...|   3|\n",
      "| 40|   Berlin|     Mustafa's Gemuese Kebab|/Restaurant_Review-g187323-d1341...|   4|\n",
      "| 39|   Berlin|              Monsieur Vuong|/Restaurant_Review-g187323-d1575...|   5|\n",
      "| 61|   Vienna|                  Figlmuller|/Restaurant_Review-g190454-d7114...|   1|\n",
      "| 70|   Vienna|         Plachutta Wollzeile|/Restaurant_Review-g190454-d6945...|   2|\n",
      "| 46|   Vienna|                  Salm Braeu|/Restaurant_Review-g190454-d1319...|   3|\n",
      "| 69|   Vienna|                 Figlmueller|/Restaurant_Review-g190454-d1641...|   4|\n",
      "| 26|   Vienna|              Ribs of Vienna|/Restaurant_Review-g190454-d2622...|   5|\n",
      "| 18|   Zurich|              Zeughauskeller|/Restaurant_Review-g188113-d6979...|   1|\n",
      "|  9|   Zurich|                  Haus Hiltl|/Restaurant_Review-g188113-d6978...|   2|\n",
      "| 25|   Zurich|     Restaurant Swiss Chuchi|/Restaurant_Review-g188113-d7996...|   3|\n",
      "| 71|   Zurich|                      Clouds|/Restaurant_Review-g188113-d2513...|   4|\n",
      "| 17|   Zurich|                 Kronenhalle|/Restaurant_Review-g188113-d9525...|   5|\n",
      "|266|Amsterdam|    Hard Rock Cafe Amsterdam|/Restaurant_Review-g188590-d1010...|   1|\n",
      "| 42|Amsterdam|             The Seafood Bar|/Restaurant_Review-g188590-d3323...|   2|\n",
      "|147|Amsterdam|     Restaurant Haesje Claes|/Restaurant_Review-g188590-d6970...|   3|\n",
      "|182|Amsterdam|                         Cau|/Restaurant_Review-g188590-d1052...|   4|\n",
      "| 64|Amsterdam|                  The Pantry|/Restaurant_Review-g188590-d6970...|   5|\n",
      "+---+---------+----------------------------+-----------------------------------+----+\n",
      "\n"
     ]
    }
   ],
   "source": [
    "from pyspark.sql.window import Window\n",
    "\n",
    "window = Window.partitionBy(df['City']).orderBy(df['NumReviews'].desc())\n",
    "\n",
    "((df.filter(df.City.isin(\"Amsterdam\", \"Berlin\", \"Lisbon\", \"Vienna\", \"Zurich\")))\n",
    "            .select(df['id'], \n",
    "                    df['City'], \n",
    "                    df['Name'], \n",
    "                    df['URL_TA'], \n",
    "                    rank().over(window).alias('rank')).filter(col('rank') <= 5).show(25, truncate = 35)\n",
    ")\n"
   ]
  },
  {
   "cell_type": "markdown",
   "metadata": {},
   "source": [
    "#4. Obtener los 5 estilos de cocina más frecuentes en los restaurantes de las ciudades:\n",
    "Amsterdam, Berlín, Lisboa, Viena y Zurich.\n",
    "\n",
    "Lo primero, he probado a responder a la pregunta para los restaurantes únicamente de Amsterdam."
   ]
  },
  {
   "cell_type": "code",
   "execution_count": 151,
   "metadata": {},
   "outputs": [
    {
     "name": "stdout",
     "output_type": "stream",
     "text": [
      "+---------+--------------------+----+\n",
      "|     City|  CuisineUniqueStyle|rank|\n",
      "+---------+--------------------+----+\n",
      "|Amsterdam|            European|   1|\n",
      "|Amsterdam| Vegetarian Friendly|   2|\n",
      "|Amsterdam|               Dutch|   3|\n",
      "|Amsterdam|       Vegan Options|   4|\n",
      "|Amsterdam| Gluten Free Options|   5|\n",
      "+---------+--------------------+----+\n",
      "\n"
     ]
    }
   ],
   "source": [
    "df4 = ((df3.filter(df3.City.isin(\"Amsterdam\")))\n",
    "            .select(df3['City'], \n",
    "                    df3['Name'], \n",
    "                    explode(df3.CuisineStyle).alias(\"CuisineUniqueStyle\"))\n",
    ")\n",
    "\n",
    "w = Window.partitionBy('CuisineUniqueStyle')\n",
    "df5 = (df4.select('City','CuisineUniqueStyle', \n",
    "                 func.count('CuisineUniqueStyle').over(w).alias('n'))\n",
    "        .dropDuplicates([\"CuisineUniqueStyle\", \"n\"])\n",
    "        .sort(desc(\"n\"))\n",
    "      )\n",
    "\n",
    "w = Window.partitionBy('City').orderBy(df5['n'].desc())\n",
    "(df5.select(df5['City'], \n",
    "            df5['CuisineUniqueStyle'],\n",
    "            dense_rank().over(w).alias('rank')).\n",
    "     filter(col('rank') <= 5)\n",
    "     .show(truncate=35)\n",
    ")"
   ]
  },
  {
   "cell_type": "markdown",
   "metadata": {},
   "source": [
    "Lo siguiente he procedido a realizar la consulta por ventanas de las 5 ciudades, pero me di cuenta de que al hacer dropDuplicates en el segundo paso, no lo hace por \"City\", \"CuisineUniqueStyle\", \"n\" sino probablemente por \"CuisineUniqueStyle\", \"n\" y por tanto me salen que en todas las ciudades los top 5 cocinas son las mismas. Es decir, en realidad obtengo las 5 top cocinas entre las 5 ciudades, cuando mi objetivo era mostrar el resultado en cada ciudad.\n",
    "\n",
    "Por tanto he modificado la consulta para que el count lo haga agrupando en dos niveles, *City* y *CuisineUniqueStyle*, y luego ya hago el rank en ventana de cada ciudad, ordenando los valores en orden descendente según lo pide la función de *rank*.\n",
    "\n",
    "La consulta se realiza siguiendo el siguiente orden de los pasos. Cada paso se realiza sobre el DataFrame creado en el paso anterior.\n",
    "\n",
    "- Crear un DataFrame que contenga info de las 5 ciudades de interés separando los datos del array de la columna CuisineStyle en strings separados y creando una fila por cada estilo de cocina.\n",
    "- Crear un DataFrame obtenido haciendo un count de valores de estilos de cocina dentro de cada una de las 5 ciudades\n",
    "- Crear una ventana por ciudad ordenando el valor de count obtenido en orden descendente.\n",
    "- Seleccionar los 5 primeros valores de cada ventana que coinciden con los 5 restaurantes que tienen en mayor número de counts, es decir que tienen los 5 estilos más frecuentes."
   ]
  },
  {
   "cell_type": "code",
   "execution_count": 152,
   "metadata": {},
   "outputs": [
    {
     "name": "stdout",
     "output_type": "stream",
     "text": [
      "+---------+--------------------+----+\n",
      "|     City|  CuisineUniqueStyle|rank|\n",
      "+---------+--------------------+----+\n",
      "|   Lisbon|          Portuguese|   1|\n",
      "|   Lisbon|            European|   2|\n",
      "|   Lisbon|            European|   3|\n",
      "|   Lisbon| Vegetarian Friendly|   4|\n",
      "|   Lisbon|       Mediterranean|   5|\n",
      "|   Berlin| Vegetarian Friendly|   1|\n",
      "|   Berlin|            European|   2|\n",
      "|   Berlin|             Italian|   3|\n",
      "|   Berlin|              German|   4|\n",
      "|   Berlin|       Vegan Options|   5|\n",
      "|   Vienna|            European|   1|\n",
      "|   Vienna| Vegetarian Friendly|   2|\n",
      "|   Vienna|            Austrian|   3|\n",
      "|   Vienna|    Central European|   4|\n",
      "|   Vienna|             Italian|   5|\n",
      "|   Zurich| Vegetarian Friendly|   1|\n",
      "|   Zurich|            European|   2|\n",
      "|   Zurich|             Italian|   3|\n",
      "|   Zurich|               Swiss|   4|\n",
      "|   Zurich|       Mediterranean|   5|\n",
      "|Amsterdam|            European|   1|\n",
      "|Amsterdam| Vegetarian Friendly|   2|\n",
      "|Amsterdam|               Dutch|   3|\n",
      "|Amsterdam|       Vegan Options|   4|\n",
      "|Amsterdam| Gluten Free Options|   5|\n",
      "+---------+--------------------+----+\n",
      "\n"
     ]
    }
   ],
   "source": [
    "df4 = ((df3.filter(df3.City.isin(\"Amsterdam\", \"Berlin\", \"Lisbon\", \"Vienna\", \"Zurich\")))\n",
    "            .select(df3['City'], \n",
    "                    df3['Name'], \n",
    "                    explode(df3.CuisineStyle).alias(\"CuisineUniqueStyle\"))\n",
    ")\n",
    "\n",
    "df5 = (df4.select(df4['City'], df4['CuisineUniqueStyle'])\n",
    "                    .groupBy(\"City\", \"CuisineUniqueStyle\")\n",
    "                    .agg(func.count(\"CuisineUniqueStyle\").alias(\"n\"))\n",
    "      )\n",
    "\n",
    "w2 = Window.partitionBy('City').orderBy(df5['n'].desc())\n",
    "(df5.select(df5['City'], \n",
    "            df5['CuisineUniqueStyle'],\n",
    "            rank().over(w2).alias('rank')).\n",
    "     filter(col('rank') <= 5)\n",
    "     .show(25, truncate=35)\n",
    ")"
   ]
  },
  {
   "cell_type": "markdown",
   "metadata": {},
   "source": [
    "#5. Obtener nombre, ID y URL de los 5 restaurantes que tengan el mayor número de\n",
    "reviews, que incluyan estilo de cocina francesa y estén en el rango de precios más caro\n",
    "en las ciudades: Amsterdam, Berlín y Lisboa.\n",
    "\n",
    "La consulta se realiza siguiendo el siguiente orden de los pasos. Cada paso se realiza sobre el DataFrame creado en el paso anterior.\n",
    "\n",
    "- Crear un nuevo DataFrame separando los datos del array de la columna CuisineStyle en strings separados y creando una fila por cada estilo de cocina.\n",
    "- Hacer un drop de los datos faltantes (NaN o Null) para eliminarlos\n",
    "- Crear un nuevo DataFrame que filtre los datos de 3 ciudades, estilo de cocina francesa y que estén en el rango de precios más caro.\n",
    "- Crear una ventana por ciudad ordenando el número de reviews en orden descendente.\n",
    "- Seleccionar los 5 primeros valores de cada ciudad que coinciden con los 5 restaurantes que tienen en mayor número de reviews."
   ]
  },
  {
   "cell_type": "code",
   "execution_count": 153,
   "metadata": {},
   "outputs": [
    {
     "name": "stdout",
     "output_type": "stream",
     "text": [
      "286649\n",
      "251602\n",
      "+----+---------+-------------------+-----------------------------------+----------+----------+----+\n",
      "|  id|     City|               Name|                             URL_TA|PriceRange|NumReviews|rank|\n",
      "+----+---------+-------------------+-----------------------------------+----------+----------+----+\n",
      "|1659|   Lisbon|              Local|              'Love Is In The Air']|      $$$$|       3.0|   1|\n",
      "| 608|   Berlin|          borchardt|/Restaurant_Review-g187323-d6925...|      $$$$|    1399.0|   1|\n",
      "|  26|   Berlin|            Heising|/Restaurant_Review-g187323-d9587...|      $$$$|    1024.0|   2|\n",
      "| 101|   Berlin|          Entrecote|/Restaurant_Review-g187323-d6956...|      $$$$|     868.0|   3|\n",
      "|1192|   Berlin|              Grosz|/Restaurant_Review-g187323-d3727...|      $$$$|     367.0|   4|\n",
      "|  83|   Berlin|Belmondo Restaurant|/Restaurant_Review-g187323-d1526...|      $$$$|     355.0|   5|\n",
      "|  14|Amsterdam| Restaurant Daalder|/Restaurant_Review-g188590-d1408...|      $$$$|    1246.0|   1|\n",
      "|  82|Amsterdam|        De Belhamel|/Restaurant_Review-g188590-d6969...|      $$$$|    1170.0|   2|\n",
      "|  56|Amsterdam|Restaurant Johannes|/Restaurant_Review-g188590-d5971...|      $$$$|    1065.0|   3|\n",
      "| 143|Amsterdam|            Bridges|/Restaurant_Review-g188590-d6970...|      $$$$|     961.0|   4|\n",
      "|  17|Amsterdam|Brasserie Ambassade|/Restaurant_Review-g188590-d8567...|      $$$$|     958.0|   5|\n",
      "+----+---------+-------------------+-----------------------------------+----------+----------+----+\n",
      "\n"
     ]
    }
   ],
   "source": [
    "df_5 = (df3.select(df3['id'], \n",
    "                    df3['City'],\n",
    "                    df3['Name'],\n",
    "                    df3['URL_TA'],\n",
    "                    df3['PriceRange'],\n",
    "                    df3['NumReviews'],\n",
    "                    explode(df3.CuisineStyle).alias(\"CuisineUniqueStyle\"))\n",
    ")\n",
    "\n",
    "print(df_5.count())\n",
    "clean_df = df_5.na.drop()\n",
    "print(clean_df.count())\n",
    "\n",
    "df_6 = clean_df.filter(clean_df.City.isin(\"Amsterdam\", \"Berlin\",\"Lisbon\") & \n",
    "                clean_df.CuisineUniqueStyle.isin(\"French\") &\n",
    "                clean_df.PriceRange.isin(\"$$$$\"))\n",
    "\n",
    "window = Window.partitionBy(df['City']).orderBy(df['NumReviews'].desc())\n",
    "(df_6.select(df_6['id'], \n",
    "              df_6['City'],\n",
    "              df_6['Name'], \n",
    "              df_6['URL_TA'], \n",
    "              df_6['PriceRange'],\n",
    "              df_6['NumReviews'],\n",
    "              rank().over(window).alias('rank')).filter(col('rank') <= 5).show(25, truncate = 35)\n",
    ")\n"
   ]
  },
  {
   "cell_type": "code",
   "execution_count": null,
   "metadata": {},
   "outputs": [],
   "source": [
    "\n"
   ]
  },
  {
   "cell_type": "code",
   "execution_count": 154,
   "metadata": {},
   "outputs": [],
   "source": [
    "# Eliminamos el contexto de Spark.\n",
    "sc.stop()"
   ]
  },
  {
   "cell_type": "code",
   "execution_count": null,
   "metadata": {},
   "outputs": [],
   "source": []
  }
 ],
 "metadata": {
  "anaconda-cloud": {},
  "kernelspec": {
   "display_name": "Python 3",
   "language": "python",
   "name": "python3"
  },
  "language_info": {
   "codemirror_mode": {
    "name": "ipython",
    "version": 3
   },
   "file_extension": ".py",
   "mimetype": "text/x-python",
   "name": "python",
   "nbconvert_exporter": "python",
   "pygments_lexer": "ipython3",
   "version": "3.7.3"
  }
 },
 "nbformat": 4,
 "nbformat_minor": 2
}
